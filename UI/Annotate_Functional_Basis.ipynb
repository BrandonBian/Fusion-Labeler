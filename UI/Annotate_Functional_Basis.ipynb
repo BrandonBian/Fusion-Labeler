{
 "cells": [
  {
   "cell_type": "markdown",
   "metadata": {},
   "source": [
    "# Step 0: Preparation for labeling"
   ]
  },
  {
   "cell_type": "markdown",
   "metadata": {},
   "source": [
    "**Before you start labeling, please make sure the following steps are taken:**\n",
    "\n",
    "0. You have **deleted all old/useless images in folder \"images_to_be_labeled\"** and **deleted all old/useless label CSV files in folder \"labels\"**;\n",
    "1. You have downloaded your responsible dataset packet from Google Drive, and have copied **ALL images** from it to the folder \"images_to_be_labeled\";\n",
    "2. You have indicated on the **spreadsheet** that you have downloaded your responsible dataset packet for labeling;\n",
    "3. You have run **\"git pull\"** to obtain the latest code (if applicable) for dataset labeling;\n",
    "4. You have **sufficient time and energy** to complete the labeling (ideally in one go);\n",
    "5. **DON'T close the Windows Powershell** unless you have completed all labeling (as it will shutdown your kernel).\n",
    "\n",
    "*TIP:* Select a cell, and press **\"Ctrl+Enter\"** to run that cell.\n"
   ]
  },
  {
   "cell_type": "markdown",
   "metadata": {},
   "source": [
    "# Step 0.5: Import all necessary packages / libraries"
   ]
  },
  {
   "cell_type": "code",
   "execution_count": 2,
   "metadata": {
    "pycharm": {
     "name": "#%%\n"
    },
    "scrolled": false
   },
   "outputs": [
    {
     "name": "stdout",
     "output_type": "stream",
     "text": [
      "All libraries imported correctly - ready for the next step!\n"
     ]
    }
   ],
   "source": [
    "# Import Packages\n",
    "\n",
    "# !git pull\n",
    "\n",
    "import os\n",
    "import pandas as pd\n",
    "from IPython.display import display, Image\n",
    "%load_ext autoreload\n",
    "%autoreload 2\n",
    "\n",
    "%matplotlib inline\n",
    "\n",
    "from utils import *\n",
    "print(\"All libraries imported correctly - ready for the next step!\")\n"
   ]
  },
  {
   "cell_type": "markdown",
   "metadata": {},
   "source": [
    "# Step 1: Enter your information (Name + Dataset ID)"
   ]
  },
  {
   "cell_type": "code",
   "execution_count": 17,
   "metadata": {
    "scrolled": true
   },
   "outputs": [
    {
     "name": "stdout",
     "output_type": "stream",
     "text": [
      "Please input your preferred name WITHOUT any space: Name_Example\n",
      "Please input dataset ID: 123456\n",
      "\n",
      "All information recorded - ready for the next step!\n"
     ]
    }
   ],
   "source": [
    "# Your name\n",
    "labeler_name = input(\"Please input your preferred name WITHOUT any space: \")\n",
    "dataset_id = input(\"Please input dataset ID: \")\n",
    "print(\"\")\n",
    "print(\"All information recorded - ready for the next step!\")"
   ]
  },
  {
   "cell_type": "markdown",
   "metadata": {},
   "source": [
    "# Step 2: Retrieve images and set up labeling file"
   ]
  },
  {
   "cell_type": "markdown",
   "metadata": {},
   "source": [
    "**Please make sure you have put ALL images to be labeled in the \"images_to_be_labeled\" folder!**\n"
   ]
  },
  {
   "cell_type": "code",
   "execution_count": 18,
   "metadata": {},
   "outputs": [
    {
     "name": "stdout",
     "output_type": "stream",
     "text": [
      "Number of images retrieved:  67\n",
      "Ready for labeling!\n"
     ]
    }
   ],
   "source": [
    "# TODO: Fetch image directories\n",
    "\n",
    "images = get_all_files(\"../images_to_be_labeled/\", \"*.jpg\")\n",
    "\n",
    "\n",
    "# TODO: assemble list of labels to use as options in the manual labeling process\n",
    "\n",
    "# Primary Functional Basis (Tier 1)\n",
    "functional_basis_tier1 = [\"branch\", \"control magnitude\", \"convert\", \"provision\",\n",
    "                         \"signal\", \"support\", \"channel\", \"connect\"]\n",
    "\n",
    "\n",
    "print(\"Number of images retrieved: \", len(images))\n",
    "    \n",
    "label_info = labeler_name + \"-dataset\" + dataset_id\n",
    "LABELS_FINAL_OUT_DIR = f\"../labels/{label_info}.csv\"\n",
    "\n",
    "LABELS_FINAL_OUT_DIR = Path(LABELS_FINAL_OUT_DIR)\n",
    "\n",
    "if not LABELS_FINAL_OUT_DIR.exists():\n",
    "    df = pd.DataFrame(list(), columns=['Assembly_Name', 'Body_Name', 'Label_Tier1', \n",
    "                                                       'Label_Tier2', 'Label_Tier3'])\n",
    "    df.to_csv(f\"../labels/{label_info}.csv\")\n",
    "    \n",
    "print(\"Ready for labeling!\")"
   ]
  },
  {
   "cell_type": "markdown",
   "metadata": {},
   "source": [
    "# Step 2: Start manual labeling\n",
    "## Note: You may restart this code cell (Ctrl+Enter) any time to resume labeling"
   ]
  },
  {
   "cell_type": "code",
   "execution_count": 22,
   "metadata": {
    "pycharm": {
     "name": "#%%\n"
    }
   },
   "outputs": [
    {
     "data": {
      "application/vnd.jupyter.widget-view+json": {
       "model_id": "6ff116bb00a1428694a1b401e107a454",
       "version_major": 2,
       "version_minor": 0
      },
      "text/plain": [
       "HTML(value='')"
      ]
     },
     "metadata": {},
     "output_type": "display_data"
    },
    {
     "name": "stdout",
     "output_type": "stream",
     "text": [
      "All Files Are Annotated / No Files to be Annotated\n"
     ]
    }
   ],
   "source": [
    "# Start manually labeling\n",
    "\n",
    "images = get_all_files(\"../images_to_be_labeled/\", \"*.jpg\")\n",
    "\n",
    "annotations = annotate_functional_basis(\n",
    "    label_info = LABELS_FINAL_OUT_DIR,\n",
    "    examples = images,\n",
    "    options_1 = functional_basis_tier1,\n",
    "    display_fn=lambda filename: display(Image(filename))\n",
    ")\n"
   ]
  },
  {
   "cell_type": "markdown",
   "metadata": {},
   "source": [
    "# Step 3: Upload your labels to the Google Drive"
   ]
  },
  {
   "cell_type": "markdown",
   "metadata": {},
   "source": [
    "1. Please make sure that you labeled **ALL images** that are to be labeled. (Note: you can check this by re-running the previous cell using Ctrl+Enter)\n",
    "\n",
    "2. Please make sure that you upload the CSV file **\"\\[your name\\]-dataset\\[ID\\].csv\"** to the corresponding folder on Google Drive.\n",
    "\n",
    "3. Please also make sure you indicate that you have **\"Finished Labeling\"** your dataset on the spreadsheet."
   ]
  },
  {
   "cell_type": "markdown",
   "metadata": {},
   "source": [
    "# Annotation Finished - Thank You!"
   ]
  }
 ],
 "metadata": {
  "kernelspec": {
   "display_name": "Python 3",
   "language": "python",
   "name": "python3"
  },
  "language_info": {
   "codemirror_mode": {
    "name": "ipython",
    "version": 3
   },
   "file_extension": ".py",
   "mimetype": "text/x-python",
   "name": "python",
   "nbconvert_exporter": "python",
   "pygments_lexer": "ipython3",
   "version": "3.8.5"
  }
 },
 "nbformat": 4,
 "nbformat_minor": 1
}
