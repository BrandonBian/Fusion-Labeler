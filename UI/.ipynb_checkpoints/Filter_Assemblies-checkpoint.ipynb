{
 "cells": [
  {
   "cell_type": "markdown",
   "metadata": {},
   "source": [
    "# Step 0: Preparation for filtering the Fusion assemblies"
   ]
  },
  {
   "cell_type": "markdown",
   "metadata": {},
   "source": [
    "**Before you start labeling, please make sure the following steps are taken:**\n",
    "\n",
    "0. You have **deleted all old/useless images in folder \"images_to_be_labeled\"** and **deleted all old/useless label CSV files in folder \"labels\"**;\n",
    "1. You have downloaded your responsible dataset packet from Google Drive, and have copied **ALL images** from it to the folder \"images_to_be_labeled\";\n",
    "2. You have indicated on the **spreadsheet** that you have downloaded your responsible dataset packet for labeling;\n",
    "3. You have run **\"git pull\"** to obtain the latest code (if applicable) for dataset labeling;\n",
    "4. You have **sufficient time and energy** to complete the labeling (ideally in one go);\n",
    "5. **DON'T close the Windows Powershell** unless you have completed all labeling (as it will shutdown your kernel).\n",
    "\n",
    "*TIP:* Select a cell, and press **\"Ctrl+Enter\"** to run that cell.\n"
   ]
  },
  {
   "cell_type": "markdown",
   "metadata": {},
   "source": [
    "# Step 0.5: Import all necessary packages / libraries"
   ]
  },
  {
   "cell_type": "code",
   "execution_count": 1,
   "metadata": {
    "pycharm": {
     "name": "#%%\n"
    },
    "scrolled": true
   },
   "outputs": [
    {
     "name": "stdout",
     "output_type": "stream",
     "text": [
      "All libraries imported correctly - ready for the next step!\n"
     ]
    }
   ],
   "source": [
    "# Import Packages\n",
    "\n",
    "# !git pull\n",
    "\n",
    "# Jupyter notebook visualize 3D\n",
    "# Reference: http://www2.compute.dtu.dk/projects/GEL/PyGEL/\n",
    "# from pygel3d import hmesh, gl_display as gl\n",
    "# from pygel3d import jupyter_display as jd\n",
    "\n",
    "\n",
    "# Regular packages\n",
    "import os\n",
    "import pandas as pd\n",
    "from IPython.display import display, Image\n",
    "%load_ext autoreload\n",
    "%autoreload 2\n",
    "\n",
    "%matplotlib inline\n",
    "\n",
    "from utils_filter_assemblies import *\n",
    "print(\"All libraries imported correctly - ready for the next step!\")\n"
   ]
  },
  {
   "cell_type": "markdown",
   "metadata": {},
   "source": [
    "# Step 1: Enter your information (Name + Dataset ID)"
   ]
  },
  {
   "cell_type": "code",
   "execution_count": 2,
   "metadata": {
    "scrolled": true
   },
   "outputs": [
    {
     "name": "stdout",
     "output_type": "stream",
     "text": [
      "Please input your computer Operating System (Windows, Mac, Linux): Windows\n",
      "Please input your preferred name WITHOUT any space: ABC\n",
      "\n",
      "All information recorded - ready for the next step!\n"
     ]
    }
   ],
   "source": [
    "# Your OS\n",
    "\n",
    "labeler_os = input(\"Please input your computer Operating System (Windows, Mac, Linux): \")\n",
    "while labeler_os not in [\"Windows\", \"Mac\", \"Linux\"]:\n",
    "    labeler_os = input(\"Invalid input Operating System! Please type one of the following (Windows, Mac, Linux): \")\n",
    "\n",
    "# Your name\n",
    "labeler_name = input(\"Please input your preferred name WITHOUT any space: \")\n",
    "print(\"\")\n",
    "print(\"All information recorded - ready for the next step!\")"
   ]
  },
  {
   "cell_type": "markdown",
   "metadata": {},
   "source": [
    "# Step 2: Retrieve OBJs and set up labeling file"
   ]
  },
  {
   "cell_type": "markdown",
   "metadata": {},
   "source": [
    "**Please make sure you have put ALL images to be labeled in the \"images_to_be_labeled\" folder!**\n"
   ]
  },
  {
   "cell_type": "code",
   "execution_count": 7,
   "metadata": {},
   "outputs": [
    {
     "name": "stdout",
     "output_type": "stream",
     "text": [
      "Number of assemblies retrieved:  15\n",
      "Ready for labeling!\n"
     ]
    }
   ],
   "source": [
    "# TODO: Fetch OBJ files\n",
    "\n",
    "assemblies = get_all_files(\"../Assemblies_to_be_filtered/\", \"*.png\")\n",
    "\n",
    "print(\"Number of assemblies retrieved: \", len(assemblies))\n",
    "    \n",
    "label_info = labeler_name + \"-filteredAssemblies\"\n",
    "LABELS_FINAL_OUT_DIR = f\"../labels/{label_info}.csv\"\n",
    "\n",
    "LABELS_FINAL_OUT_DIR = Path(LABELS_FINAL_OUT_DIR)\n",
    "\n",
    "if not LABELS_FINAL_OUT_DIR.exists():\n",
    "    df = pd.DataFrame(list(), columns=['Assembly_Name', 'Filter_Result'])\n",
    "    df.to_csv(f\"../labels/{label_info}.csv\")\n",
    "    \n",
    "print(\"Ready for labeling!\")"
   ]
  },
  {
   "cell_type": "markdown",
   "metadata": {},
   "source": [
    "# Step 2: Start manual labeling\n",
    "## Note: You may restart this code cell (Ctrl+Enter) any time to resume labeling"
   ]
  },
  {
   "cell_type": "code",
   "execution_count": 17,
   "metadata": {
    "pycharm": {
     "name": "#%%\n"
    }
   },
   "outputs": [
    {
     "data": {
      "application/vnd.jupyter.widget-view+json": {
       "model_id": "4b9b095ae7424e4c9450831273afe0cb",
       "version_major": 2,
       "version_minor": 0
      },
      "text/plain": [
       "HTML(value='')"
      ]
     },
     "metadata": {},
     "output_type": "display_data"
    },
    {
     "name": "stdout",
     "output_type": "stream",
     "text": [
      "['Assembly_Name', '20281_a29f9a18', '20285_b64b1a7e', '20287_072b5bf6', '20281_a29f9a18', '20285_b64b1a7e', '20281_a29f9a18', '20285_b64b1a7e', '20287_072b5bf6', '20291_42287610', '20293_a1999339']\n",
      "['Assembly_Name', '20281_a29f9a18', '20285_b64b1a7e', '20287_072b5bf6', '20281_a29f9a18', '20285_b64b1a7e', '20281_a29f9a18', '20285_b64b1a7e', '20287_072b5bf6', '20291_42287610', '20293_a1999339']\n",
      "['Assembly_Name', '20281_a29f9a18', '20285_b64b1a7e', '20287_072b5bf6', '20281_a29f9a18', '20285_b64b1a7e', '20281_a29f9a18', '20285_b64b1a7e', '20287_072b5bf6', '20291_42287610', '20293_a1999339']\n",
      "['Assembly_Name', '20281_a29f9a18', '20285_b64b1a7e', '20287_072b5bf6', '20281_a29f9a18', '20285_b64b1a7e', '20281_a29f9a18', '20285_b64b1a7e', '20287_072b5bf6', '20291_42287610', '20293_a1999339']\n",
      "['Assembly_Name', '20281_a29f9a18', '20285_b64b1a7e', '20287_072b5bf6', '20281_a29f9a18', '20285_b64b1a7e', '20281_a29f9a18', '20285_b64b1a7e', '20287_072b5bf6', '20291_42287610', '20293_a1999339']\n",
      "['Assembly_Name', '20281_a29f9a18', '20285_b64b1a7e', '20287_072b5bf6', '20281_a29f9a18', '20285_b64b1a7e', '20281_a29f9a18', '20285_b64b1a7e', '20287_072b5bf6', '20291_42287610', '20293_a1999339']\n",
      "['Assembly_Name', '20281_a29f9a18', '20285_b64b1a7e', '20287_072b5bf6', '20281_a29f9a18', '20285_b64b1a7e', '20281_a29f9a18', '20285_b64b1a7e', '20287_072b5bf6', '20291_42287610', '20293_a1999339']\n",
      "['Assembly_Name', '20281_a29f9a18', '20285_b64b1a7e', '20287_072b5bf6', '20281_a29f9a18', '20285_b64b1a7e', '20281_a29f9a18', '20285_b64b1a7e', '20287_072b5bf6', '20291_42287610', '20293_a1999339']\n",
      "['Assembly_Name', '20281_a29f9a18', '20285_b64b1a7e', '20287_072b5bf6', '20281_a29f9a18', '20285_b64b1a7e', '20281_a29f9a18', '20285_b64b1a7e', '20287_072b5bf6', '20291_42287610', '20293_a1999339']\n",
      "['Assembly_Name', '20281_a29f9a18', '20285_b64b1a7e', '20287_072b5bf6', '20281_a29f9a18', '20285_b64b1a7e', '20281_a29f9a18', '20285_b64b1a7e', '20287_072b5bf6', '20291_42287610', '20293_a1999339']\n",
      "['Assembly_Name', '20281_a29f9a18', '20285_b64b1a7e', '20287_072b5bf6', '20281_a29f9a18', '20285_b64b1a7e', '20281_a29f9a18', '20285_b64b1a7e', '20287_072b5bf6', '20291_42287610', '20293_a1999339']\n",
      "['Assembly_Name', '20281_a29f9a18', '20285_b64b1a7e', '20287_072b5bf6', '20281_a29f9a18', '20285_b64b1a7e', '20281_a29f9a18', '20285_b64b1a7e', '20287_072b5bf6', '20291_42287610', '20293_a1999339']\n",
      "['Assembly_Name', '20281_a29f9a18', '20285_b64b1a7e', '20287_072b5bf6', '20281_a29f9a18', '20285_b64b1a7e', '20281_a29f9a18', '20285_b64b1a7e', '20287_072b5bf6', '20291_42287610', '20293_a1999339']\n",
      "['Assembly_Name', '20281_a29f9a18', '20285_b64b1a7e', '20287_072b5bf6', '20281_a29f9a18', '20285_b64b1a7e', '20281_a29f9a18', '20285_b64b1a7e', '20287_072b5bf6', '20291_42287610', '20293_a1999339']\n",
      "['Assembly_Name', '20281_a29f9a18', '20285_b64b1a7e', '20287_072b5bf6', '20281_a29f9a18', '20285_b64b1a7e', '20281_a29f9a18', '20285_b64b1a7e', '20287_072b5bf6', '20291_42287610', '20293_a1999339']\n"
     ]
    }
   ],
   "source": [
    "# Start manually labeling\n",
    "\n",
    "annotations = filter_assemblies(\n",
    "    operating_sys = labeler_os,\n",
    "    label_info = LABELS_FINAL_OUT_DIR,\n",
    "    examples = assemblies,\n",
    "    display_fn=lambda filename: display(Image(filename))\n",
    ")\n"
   ]
  },
  {
   "cell_type": "markdown",
   "metadata": {},
   "source": [
    "# Step 3: Upload your labels to the Google Drive"
   ]
  },
  {
   "cell_type": "markdown",
   "metadata": {},
   "source": [
    "1. Please make sure that you labeled **ALL images** that are to be labeled. (Note: you can check this by re-running the previous cell using Ctrl+Enter)\n",
    "\n",
    "2. Please make sure that you upload the CSV file **\"\\[your name\\]-dataset\\[ID\\].csv\"** to the corresponding folder on Google Drive.\n",
    "\n",
    "3. Please also make sure you indicate that you have **\"Finished Labeling\"** your dataset on the spreadsheet."
   ]
  },
  {
   "cell_type": "markdown",
   "metadata": {},
   "source": [
    "# Annotation Finished - Thank You!"
   ]
  }
 ],
 "metadata": {
  "kernelspec": {
   "display_name": "Python 3",
   "language": "python",
   "name": "python3"
  },
  "language_info": {
   "codemirror_mode": {
    "name": "ipython",
    "version": 3
   },
   "file_extension": ".py",
   "mimetype": "text/x-python",
   "name": "python",
   "nbconvert_exporter": "python",
   "pygments_lexer": "ipython3",
   "version": "3.8.5"
  }
 },
 "nbformat": 4,
 "nbformat_minor": 1
}
